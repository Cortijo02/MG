{
 "cells": [
  {
   "cell_type": "markdown",
   "metadata": {
    "id": "ajlSB55Rro99"
   },
   "source": [
    "# Imports"
   ]
  },
  {
   "cell_type": "code",
   "execution_count": 29,
   "metadata": {
    "id": "zUT_R0lqrnVN"
   },
   "outputs": [],
   "source": [
    "from tensorflow.keras.layers import Input, Conv2D, ZeroPadding2D, MaxPooling2D\n",
    "\n",
    "from tensorflow.python.keras.utils import layer_utils as lu\n",
    "\n",
    "from tensorflow.keras.models import Model"
   ]
  },
  {
   "cell_type": "markdown",
   "metadata": {
    "id": "qhBCtMLtvuTb"
   },
   "source": [
    "# Dimensiones de la convolución"
   ]
  },
  {
   "cell_type": "code",
   "execution_count": 45,
   "metadata": {
    "colab": {
     "base_uri": "https://localhost:8080/"
    },
    "executionInfo": {
     "elapsed": 1298,
     "status": "ok",
     "timestamp": 1668075069837,
     "user": {
      "displayName": "Punto",
      "userId": "10186899819214684786"
     },
     "user_tz": -60
    },
    "id": "EVzuoVpkvuD2",
    "outputId": "13e113de-b04d-4359-cf4f-8858ba39b6bc"
   },
   "outputs": [
    {
     "name": "stdout",
     "output_type": "stream",
     "text": [
      "(None, 2, 2, 3)\n",
      "Nº parameters: 30\n"
     ]
    }
   ],
   "source": [
    "input = Input(shape=(6, 6, 1))\n",
    "x = Conv2D(filters=3, kernel_size=(3, 3), padding='valid')(input)\n",
    "x = MaxPooling2D()(x)\n",
    "print(x.shape)\n",
    "print('Nº parameters:', lu.count_params(Model(input, x).trainable_weights))"
   ]
  },
  {
   "cell_type": "markdown",
   "metadata": {
    "id": "UaneBW10p6JH"
   },
   "source": [
    "---\n",
    "\n",
    "Creado por **Guillermo Iglesias** (guillermo.iglesias@upm.es)\n",
    "\n",
    "<img src=\"https://licensebuttons.net/l/by-nc-sa/3.0/88x31.png\">"
   ]
  }
 ],
 "metadata": {
  "accelerator": "GPU",
  "colab": {
   "provenance": [
    {
     "file_id": "/v2/external/notebooks/gpu.ipynb",
     "timestamp": 1611939535453
    }
   ]
  },
  "gpuClass": "standard",
  "kernelspec": {
   "display_name": "Python 3 (ipykernel)",
   "language": "python",
   "name": "python3"
  },
  "language_info": {
   "codemirror_mode": {
    "name": "ipython",
    "version": 3
   },
   "file_extension": ".py",
   "mimetype": "text/x-python",
   "name": "python",
   "nbconvert_exporter": "python",
   "pygments_lexer": "ipython3",
   "version": "3.8.13"
  }
 },
 "nbformat": 4,
 "nbformat_minor": 4
}
